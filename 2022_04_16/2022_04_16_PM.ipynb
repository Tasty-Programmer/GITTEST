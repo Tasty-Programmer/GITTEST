{
 "cells": [
  {
   "cell_type": "markdown",
   "metadata": {
    "collapsed": true,
    "pycharm": {
     "name": "#%% md\n"
    }
   },
   "source": [
    "# 123123"
   ]
  },
  {
   "cell_type": "code",
   "execution_count": 1,
   "outputs": [
    {
     "name": "stdout",
     "output_type": "stream",
     "text": [
      "Hello World!!!!!!!!!!!!\n"
     ]
    }
   ],
   "source": [
    "print('Hello World!!!!!!!!!!!!')"
   ],
   "metadata": {
    "collapsed": false,
    "pycharm": {
     "name": "#%%\n"
    }
   }
  },
  {
   "cell_type": "markdown",
   "source": [
    "변수 ? 이것은 변화하는 수 입니다."
   ],
   "metadata": {
    "collapsed": false,
    "pycharm": {
     "name": "#%% md\n"
    }
   }
  },
  {
   "cell_type": "code",
   "execution_count": 11,
   "outputs": [
    {
     "name": "stdout",
     "output_type": "stream",
     "text": [
      "30\n",
      "<class 'int'>\n",
      "<class 'float'>\n",
      "\n"
     ]
    },
    {
     "data": {
      "text/plain": "\"\\n수 \\n'hello world'\\n[1,2,3,'abc','daelim'] 리스트\\n('abc',123) 튜플\\ndictionary 사전 {\\n\\n}  \\n\""
     },
     "execution_count": 11,
     "metadata": {},
     "output_type": "execute_result"
    }
   ],
   "source": [
    "a = 10\n",
    "b = 20\n",
    "c = a+b\n",
    "print(a+b)\n",
    "\n",
    "print(type(1))\n",
    "print(type(10.2))\n",
    "print()\n",
    "\n",
    "'''\n",
    "수\n",
    "'hello world' 문자열\n",
    "[1,2,3,'abc','daelim'] 리스트\n",
    "('abc',123) 튜플\n",
    "dictionary 사전\n",
    "{\n",
    "'이름' : '이종훈님'\n",
    "}\n",
    "boolean <- if 참 과 거짓을 판명 할때\n",
    "'''\n"
   ],
   "metadata": {
    "collapsed": false,
    "pycharm": {
     "name": "#%%\n"
    }
   }
  },
  {
   "cell_type": "code",
   "execution_count": 7,
   "outputs": [
    {
     "name": "stdout",
     "output_type": "stream",
     "text": [
      "김두식\n"
     ]
    }
   ],
   "source": [
    "person_name = input('당신의 이름을 알려주세요~')\n",
    "print(person_name)\n",
    "\n"
   ],
   "metadata": {
    "collapsed": false,
    "pycharm": {
     "name": "#%%\n"
    }
   }
  },
  {
   "cell_type": "code",
   "execution_count": 13,
   "outputs": [
    {
     "name": "stdout",
     "output_type": "stream",
     "text": [
      "원의 면적은  314.0\n"
     ]
    }
   ],
   "source": [
    "# PI 3.14 radius 10 area ?\n",
    "# area = PI * radius * radius\n",
    "PI = 3.14\n",
    "radius = 10\n",
    "area = PI * radius * radius\n",
    "print('원의 면적은 ', area)"
   ],
   "metadata": {
    "collapsed": false,
    "pycharm": {
     "name": "#%%\n"
    }
   }
  },
  {
   "cell_type": "code",
   "execution_count": 13,
   "outputs": [],
   "source": [
    "# 변수의 이름 ! # <- 왜 주석으로 변경이되므로 못써요!\n",
    "# 영어로 _ 숫자 문자 _\n",
    "# 소문자 랑 대문자 다르게취급\n",
    "\n"
   ],
   "metadata": {
    "collapsed": false,
    "pycharm": {
     "name": "#%%\n"
    }
   }
  },
  {
   "cell_type": "code",
   "execution_count": 14,
   "outputs": [
    {
     "name": "stdout",
     "output_type": "stream",
     "text": [
      "이정도 걸려요 0.042279722645019446\n"
     ]
    }
   ],
   "source": [
    "##\n",
    "# 속도 30만 거리는 4000 0000 0000\n",
    "# sec = 거리 / 속도\n",
    "# lightyear = sec / (60.0*60.0*24.0*365.0)\n",
    "speed = 300000\n",
    "distance = 400000000000\n",
    "sec = distance/speed\n",
    "lightyear = sec/(60.0*60.0*24.0*365.0)\n",
    "print('이정도 걸려요',lightyear)\n",
    "\n"
   ],
   "metadata": {
    "collapsed": false,
    "pycharm": {
     "name": "#%%\n"
    }
   }
  },
  {
   "cell_type": "markdown",
   "source": [
    " # 입출력 계산기!\n"
   ],
   "metadata": {
    "collapsed": false,
    "pycharm": {
     "name": "#%% md\n"
    }
   }
  },
  {
   "cell_type": "code",
   "execution_count": 15,
   "outputs": [
    {
     "name": "stdout",
     "output_type": "stream",
     "text": [
      "두 숫자를 더한 값은 128\n",
      "두 숫자를 뺀 값은 122\n",
      "두 숫자를 곱한 값은 375\n",
      "두 숫자를 나눈 값은 41.666666666666664\n",
      "두 숫자를 나머지 값은 2\n"
     ]
    }
   ],
   "source": [
    "# 두가지 변수를 입력받아서 +,-,*,/,% 계산기 입출력 계산기~\n",
    "num1 = int(input('첫번째 수를 입력하세요 :'))\n",
    "num2 = int(input('첫번째 수를 입력하세요 :'))\n",
    "\n",
    "print('두 숫자를 더한 값은',num1+num2)\n",
    "print('두 숫자를 뺀 값은',num1-num2)\n",
    "print('두 숫자를 곱한 값은',num1*num2)\n",
    "print('두 숫자를 나눈 값은',num1/num2)\n",
    "print('두 숫자를 나머지 값은',num1%num2)"
   ],
   "metadata": {
    "collapsed": false,
    "pycharm": {
     "name": "#%%\n"
    }
   }
  },
  {
   "cell_type": "code",
   "execution_count": 23,
   "outputs": [
    {
     "name": "stdout",
     "output_type": "stream",
     "text": [
      "<class 'str'>\n",
      "<class 'int'>\n",
      "철수가 안녕을 하네요~Hello\n"
     ]
    }
   ],
   "source": [
    "'hello' + ' hello'\n",
    "msg = 'Hello'\n",
    "print(type(msg))\n",
    "print(type(123))\n",
    "# print(123+msg)\n",
    "print('철수가 안녕을 하네요~' + msg)"
   ],
   "metadata": {
    "collapsed": false,
    "pycharm": {
     "name": "#%%\n"
    }
   }
  },
  {
   "cell_type": "code",
   "execution_count": 30,
   "outputs": [
    {
     "name": "stdout",
     "output_type": "stream",
     "text": [
      "H\n",
      "123123\n",
      "246\n"
     ]
    }
   ],
   "source": [
    "a='Hello World'\n",
    "#  012345678910\n",
    "print(a[0])\n",
    "print('123'+'123')\n",
    "print(123+123)"
   ],
   "metadata": {
    "collapsed": false,
    "pycharm": {
     "name": "#%%\n"
    }
   }
  },
  {
   "cell_type": "code",
   "execution_count": 32,
   "outputs": [
    {
     "name": "stdout",
     "output_type": "stream",
     "text": [
      "======입력금액======\n",
      "====거스름돈 출력=====\n",
      "500원= 5 100원= 0 10원 0 1원 0\n"
     ]
    }
   ],
   "source": [
    "## 자판기\n",
    "itemprice = int(input('물건값을 입력하세요 :'))\n",
    "print('='*6+'입력금액'+'='*6)\n",
    "\n",
    "# 갯수 계산식\n",
    "note = int(input('1000원의 갯수: '))\n",
    "coin500 = int(input('500원 동전 갯수: '))\n",
    "coin100 = int(input('100원 동전 갯수: '))\n",
    "\n",
    "# 거스름돈 계산식\n",
    "change = note*1000+coin500*500+coin100*100 - itemprice\n",
    "\n",
    "#거스름돈 500원의 동전갯수 계산 식\n",
    "nCoin500 = change//500\n",
    "change = change%500\n",
    "\n",
    "#거스름돈 100원의 동전갯수 계산 식\n",
    "nCoin100 = change//100\n",
    "change = change%100\n",
    "\n",
    "#거스름돈 10원의 동전갯수 계산 식\n",
    "nCoin10 = change//10\n",
    "change = change%10\n",
    "\n",
    "#거스름돈 1원의 동전갯수 계산 식\n",
    "nCoin1 = change\n",
    "\n",
    "print('====거스름돈 출력=====')\n",
    "print('500원=',nCoin500,'100원=',nCoin100,'10원',nCoin10,'1원',nCoin1)"
   ],
   "metadata": {
    "collapsed": false,
    "pycharm": {
     "name": "#%%\n"
    }
   }
  },
  {
   "cell_type": "code",
   "execution_count": 33,
   "outputs": [
    {
     "name": "stdout",
     "output_type": "stream",
     "text": [
      "\n",
      "==============================\n",
      "오늘 잠실구장 에서 야구 경기가 열렸습니다.\n",
      "두산 과 SSG 은 치열한 공방전을 펼쳤습니다.\n",
      "김두식 이 맹활약을 하였습니다.\n",
      "결국 두산 가 SSG 를 8:7 로 이겼습니다!\n",
      "==============================\n"
     ]
    }
   ],
   "source": [
    "# 로봇기자 프로그램!\n",
    "stadium  = input('경기장 어디입니까?')\n",
    "winner = input('이긴팀은 어디입니까?')\n",
    "loser = input('진팀은 어디입니까?')\n",
    "vip = input('우수선수는 누구입니까?')\n",
    "score = input('스코어는 몇대몇 입니까?')\n",
    "\n",
    "print('')\n",
    "print('='*30)\n",
    "print('오늘',stadium,'에서 야구 경기가 열렸습니다.')\n",
    "print(winner,'과',loser,'은 치열한 공방전을 펼쳤습니다.')\n",
    "print(vip,'이 맹활약을 하였습니다.')\n",
    "print('결국',winner,'가',loser,'를',score,'로 이겼습니다!')\n",
    "print('='*30)"
   ],
   "metadata": {
    "collapsed": false,
    "pycharm": {
     "name": "#%%\n"
    }
   }
  },
  {
   "cell_type": "code",
   "execution_count": null,
   "outputs": [],
   "source": [],
   "metadata": {
    "collapsed": false,
    "pycharm": {
     "name": "#%%\n"
    }
   }
  },
  {
   "cell_type": "code",
   "execution_count": 13,
   "outputs": [],
   "source": [],
   "metadata": {
    "collapsed": false,
    "pycharm": {
     "name": "#%%\n"
    }
   }
  },
  {
   "cell_type": "code",
   "execution_count": 13,
   "outputs": [],
   "source": [],
   "metadata": {
    "collapsed": false,
    "pycharm": {
     "name": "#%%\n"
    }
   }
  },
  {
   "cell_type": "code",
   "execution_count": 13,
   "outputs": [],
   "source": [],
   "metadata": {
    "collapsed": false,
    "pycharm": {
     "name": "#%%\n"
    }
   }
  },
  {
   "cell_type": "code",
   "execution_count": 13,
   "outputs": [],
   "source": [],
   "metadata": {
    "collapsed": false,
    "pycharm": {
     "name": "#%%\n"
    }
   }
  },
  {
   "cell_type": "code",
   "execution_count": 13,
   "outputs": [],
   "source": [],
   "metadata": {
    "collapsed": false,
    "pycharm": {
     "name": "#%%\n"
    }
   }
  },
  {
   "cell_type": "code",
   "execution_count": null,
   "outputs": [],
   "source": [],
   "metadata": {
    "collapsed": false,
    "pycharm": {
     "name": "#%%\n"
    }
   }
  }
 ],
 "metadata": {
  "kernelspec": {
   "display_name": "Python 3",
   "language": "python",
   "name": "python3"
  },
  "language_info": {
   "codemirror_mode": {
    "name": "ipython",
    "version": 2
   },
   "file_extension": ".py",
   "mimetype": "text/x-python",
   "name": "python",
   "nbconvert_exporter": "python",
   "pygments_lexer": "ipython2",
   "version": "2.7.6"
  }
 },
 "nbformat": 4,
 "nbformat_minor": 0
}