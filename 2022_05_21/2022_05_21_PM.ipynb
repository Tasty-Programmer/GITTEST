{
 "cells": [
  {
   "cell_type": "code",
   "execution_count": null,
   "metadata": {
    "collapsed": true
   },
   "outputs": [],
   "source": [
    "# 개발을 하다보면 이것이 구현되있을까? 라는 질문에 파이썬은 예! 그거 구현되있으니 일단 실행부터 해보십셔~\n",
    "# 오픈소스 장점"
   ]
  },
  {
   "cell_type": "code",
   "execution_count": 1,
   "outputs": [
    {
     "name": "stdout",
     "output_type": "stream",
     "text": [
      "75076894314675\n",
      "실행에 걸린시간 :  1.2831988\n"
     ]
    }
   ],
   "source": [
    "#import 기능을 불러온다~\n",
    "import time\n",
    "\n",
    "first_time = time.perf_counter()\n",
    "\n",
    "result = 0\n",
    "\n",
    "for i in range(100):\n",
    "    result += i\n",
    "\n",
    "for i in range(result):\n",
    "    result += i\n",
    "\n",
    "for i in range(result):\n",
    "    result += i\n",
    "\n",
    "last_time =time.perf_counter()\n",
    "\n",
    "print(result)\n",
    "print('실행에 걸린시간 : ',last_time-first_time)\n"
   ],
   "metadata": {
    "collapsed": false,
    "pycharm": {
     "name": "#%%\n"
    }
   }
  },
  {
   "cell_type": "code",
   "execution_count": 3,
   "outputs": [
    {
     "data": {
      "text/plain": "3.141592653589793"
     },
     "execution_count": 3,
     "metadata": {},
     "output_type": "execute_result"
    }
   ],
   "source": [
    "import math\n",
    "from math import pi\n",
    "math.sqrt(4.0)\n",
    "pi\n"
   ],
   "metadata": {
    "collapsed": false,
    "pycharm": {
     "name": "#%%\n"
    }
   }
  },
  {
   "cell_type": "code",
   "execution_count": 13,
   "outputs": [],
   "source": [
    "def answer_kim(msg,nick='개발자'):\n",
    "    print(f'''\n",
    "    김은 어떤 사람입니까?\n",
    "    {msg}\n",
    "    킴의 별명은 무엇입니까?\n",
    "    {nick}\n",
    "    '''.format(msg=msg,nick=nick))"
   ],
   "metadata": {
    "collapsed": false,
    "pycharm": {
     "name": "#%%\n"
    }
   }
  },
  {
   "cell_type": "code",
   "execution_count": 15,
   "outputs": [
    {
     "name": "stdout",
     "output_type": "stream",
     "text": [
      "\n",
      "    김은 어떤 사람입니까?\n",
      "    모르겠어요\n",
      "    킴의 별명은 무엇입니까?\n",
      "    개발자\n",
      "    \n",
      "None\n"
     ]
    }
   ],
   "source": [
    "print(answer_kim('모르겠어요',))"
   ],
   "metadata": {
    "collapsed": false,
    "pycharm": {
     "name": "#%%\n"
    }
   }
  },
  {
   "cell_type": "code",
   "execution_count": null,
   "outputs": [],
   "source": [
    "#import ~~~불러오기 기능이다~\n",
    "# from ~~에서 import ~~~의 기능을 불러온다\n"
   ],
   "metadata": {
    "collapsed": false,
    "pycharm": {
     "name": "#%%\n"
    }
   }
  },
  {
   "cell_type": "code",
   "execution_count": 19,
   "outputs": [
    {
     "name": "stdout",
     "output_type": "stream",
     "text": [
      "New World!\n"
     ]
    }
   ],
   "source": [
    "'Hello, World'.replace('Hello','New')\n",
    "hi = 'Hello, World!'\n",
    "hi.replace('Hello,','New')\n",
    "hi = hi.replace('Hello,','New')\n",
    "print(hi)"
   ],
   "metadata": {
    "collapsed": false,
    "pycharm": {
     "name": "#%%\n"
    }
   }
  },
  {
   "cell_type": "code",
   "execution_count": 21,
   "outputs": [
    {
     "data": {
      "text/plain": "'1ello, Worl3'"
     },
     "execution_count": 21,
     "metadata": {},
     "output_type": "execute_result"
    }
   ],
   "source": [
    "hi1 = 'Hello, World'\n",
    "trans = str.maketrans('Hwd','123')\n",
    "hi1.translate(trans)"
   ],
   "metadata": {
    "collapsed": false,
    "pycharm": {
     "name": "#%%\n"
    }
   }
  },
  {
   "cell_type": "code",
   "execution_count": 23,
   "outputs": [
    {
     "name": "stdout",
     "output_type": "stream",
     "text": [
      "['Hello,', 'World,', 'Python']\n",
      "['Hello', ' World', ' Python']\n"
     ]
    }
   ],
   "source": [
    "hi2 = 'Hello, World, Python'\n",
    "\n",
    "hi2sp=hi2.split()\n",
    "hi2spdot = hi2.split(',')\n",
    "\n",
    "print(hi2sp)\n",
    "print(hi2spdot)"
   ],
   "metadata": {
    "collapsed": false,
    "pycharm": {
     "name": "#%%\n"
    }
   }
  },
  {
   "cell_type": "code",
   "execution_count": 24,
   "outputs": [
    {
     "data": {
      "text/plain": "'Hello, World, Python'"
     },
     "execution_count": 24,
     "metadata": {},
     "output_type": "execute_result"
    }
   ],
   "source": [
    "hi3 = 'Hello, World, Python'\n",
    "''.join(hi3)"
   ],
   "metadata": {
    "collapsed": false,
    "pycharm": {
     "name": "#%%\n"
    }
   }
  },
  {
   "cell_type": "code",
   "execution_count": 27,
   "outputs": [
    {
     "name": "stdout",
     "output_type": "stream",
     "text": [
      "HELLO, WORLD, PYTHON\n",
      "hello, world, python\n"
     ]
    }
   ],
   "source": [
    "hi2Up=hi2.upper()\n",
    "hi2Lo=hi2.lower()\n",
    "print(hi2Up)\n",
    "print(hi2Lo)"
   ],
   "metadata": {
    "collapsed": false,
    "pycharm": {
     "name": "#%%\n"
    }
   }
  },
  {
   "cell_type": "code",
   "execution_count": 35,
   "outputs": [
    {
     "name": "stdout",
     "output_type": "stream",
     "text": [
      "Hello world                                                                  \n",
      "                                 Hello world\n",
      "Hello world\n",
      "ello world                                                                  \n"
     ]
    }
   ],
   "source": [
    "hi4='                                 Hello world                                                                  '\n",
    "hi4lst = hi4.lstrip()\n",
    "hi4rst = hi4.rstrip()\n",
    "hi4sst = hi4.strip()\n",
    "hi4lst2 = hi4lst.lstrip('H')\n",
    "\n",
    "print(hi4lst)\n",
    "print(hi4rst)\n",
    "print(hi4sst)\n",
    "print(hi4lst2)\n"
   ],
   "metadata": {
    "collapsed": false,
    "pycharm": {
     "name": "#%%\n"
    }
   }
  },
  {
   "cell_type": "code",
   "execution_count": 39,
   "outputs": [
    {
     "data": {
      "text/plain": "1"
     },
     "execution_count": 39,
     "metadata": {},
     "output_type": "execute_result"
    }
   ],
   "source": [
    "hello= 'hallo'\n",
    "hello.find('h')\n",
    "hello.find('o')\n",
    "hi.count('o')"
   ],
   "metadata": {
    "collapsed": false,
    "pycharm": {
     "name": "#%%\n"
    }
   }
  },
  {
   "cell_type": "code",
   "execution_count": null,
   "outputs": [],
   "source": [],
   "metadata": {
    "collapsed": false,
    "pycharm": {
     "name": "#%%\n"
    }
   }
  },
  {
   "cell_type": "code",
   "execution_count": null,
   "outputs": [],
   "source": [],
   "metadata": {
    "collapsed": false,
    "pycharm": {
     "name": "#%%\n"
    }
   }
  }
 ],
 "metadata": {
  "kernelspec": {
   "display_name": "Python 3",
   "language": "python",
   "name": "python3"
  },
  "language_info": {
   "codemirror_mode": {
    "name": "ipython",
    "version": 2
   },
   "file_extension": ".py",
   "mimetype": "text/x-python",
   "name": "python",
   "nbconvert_exporter": "python",
   "pygments_lexer": "ipython2",
   "version": "2.7.6"
  }
 },
 "nbformat": 4,
 "nbformat_minor": 0
}