{
 "cells": [
  {
   "cell_type": "code",
   "execution_count": null,
   "metadata": {
    "collapsed": true
   },
   "outputs": [],
   "source": [
    "# set 에 대해서 나가 보도록 하겠습니다.\n",
    "# 어떤 요소? 원소? 의 모임 << 집합을 표현하는 방식에는 여러가지가 있다.\n",
    "# 밴다이어그램 ( (  ) ) )"
   ]
  },
  {
   "cell_type": "code",
   "execution_count": null,
   "outputs": [],
   "source": [
    "{} # key 와 매칭되는 밸류에 대한 값을 얻어오고 싶습니다.\n",
    "# 값을 조합하기 위해서 사용이 된다\n",
    "# 파이썬에서 numpy 수학적 개념을 코드화 ==> 코드로 수학을 치기시작한다  사용이 된다"
   ],
   "metadata": {
    "collapsed": false,
    "pycharm": {
     "name": "#%%\n"
    }
   }
  },
  {
   "cell_type": "code",
   "execution_count": 5,
   "outputs": [
    {
     "name": "stdout",
     "output_type": "stream",
     "text": [
      "{1, 2, 3, 4}\n"
     ]
    }
   ],
   "source": [
    "s1 = {1,2,3,4}\n",
    "# s1 이라는 집합을 선언합니다.\n",
    "s2 = {2}\n",
    "type(s2)\n",
    "str1 = '1111112222222222222223333333333333333333344444444444444444444444444555555555555555555555999999999999999999999922222222'\n",
    "set(str1)\n",
    "s1 = {1,1,1,1,1,1,1,1,2,2,2,2,2,2,2,3,3,3,3,3,3,4,4,4,4,4,4,4,4}\n",
    "print(s1)\n",
    "# set 자료형은 중복을 허용하지 않는다. *****\n"
   ],
   "metadata": {
    "collapsed": false,
    "pycharm": {
     "name": "#%%\n"
    }
   }
  },
  {
   "cell_type": "code",
   "execution_count": 30,
   "outputs": [
    {
     "name": "stdout",
     "output_type": "stream",
     "text": [
      "{1, 2, 3, 4, 5, 6}\n",
      "{3, 4}\n",
      "False\n",
      "{1, 2}\n",
      "{3, 4}\n",
      "{1, 2, 5, 6}\n",
      "{1, 2, 3, 4}\n"
     ]
    }
   ],
   "source": [
    "a = {1,2,3,4}\n",
    "b = {3,4,5,6}\n",
    "#a.add(5)\n",
    "#a.remove(5)\n",
    "#a.pop()\n",
    "#a.pop()\n",
    "#a.pop()\n",
    "#a.pop()\n",
    "#a.pop()\n",
    "#a.update(b)\n",
    "print(a.union(b))\n",
    "print(a.intersection(b))\n",
    "print(a.issubset(b))\n",
    "print(a-b)\n",
    "print(a & b)\n",
    "print(a ^ b)\n",
    "print(a)\n"
   ],
   "metadata": {
    "collapsed": false,
    "pycharm": {
     "name": "#%%\n"
    }
   }
  },
  {
   "cell_type": "code",
   "execution_count": 31,
   "outputs": [
    {
     "name": "stdout",
     "output_type": "stream",
     "text": [
      "1\n",
      "2\n",
      "3\n",
      "4\n"
     ]
    }
   ],
   "source": [
    "for el in {1,2,3,4}:\n",
    "    print(el)"
   ],
   "metadata": {
    "collapsed": false,
    "pycharm": {
     "name": "#%%\n"
    }
   }
  },
  {
   "cell_type": "code",
   "execution_count": 32,
   "outputs": [
    {
     "data": {
      "text/plain": "True"
     },
     "execution_count": 32,
     "metadata": {},
     "output_type": "execute_result"
    }
   ],
   "source": [
    "1 in {1,2,3}"
   ],
   "metadata": {
    "collapsed": false,
    "pycharm": {
     "name": "#%%\n"
    }
   }
  },
  {
   "cell_type": "code",
   "execution_count": 34,
   "outputs": [
    {
     "data": {
      "text/plain": "False"
     },
     "execution_count": 34,
     "metadata": {},
     "output_type": "execute_result"
    }
   ],
   "source": [
    "4 in {1,2,3}"
   ],
   "metadata": {
    "collapsed": false,
    "pycharm": {
     "name": "#%%\n"
    }
   }
  },
  {
   "cell_type": "code",
   "execution_count": 35,
   "outputs": [
    {
     "data": {
      "text/plain": "7"
     },
     "execution_count": 35,
     "metadata": {},
     "output_type": "execute_result"
    }
   ],
   "source": [
    "len({1,2,3,4,5,5,122,12,12})"
   ],
   "metadata": {
    "collapsed": false,
    "pycharm": {
     "name": "#%%\n"
    }
   }
  },
  {
   "cell_type": "code",
   "execution_count": 36,
   "outputs": [
    {
     "name": "stdout",
     "output_type": "stream",
     "text": [
      "4\n",
      "3\n"
     ]
    }
   ],
   "source": [
    "print(max(a))\n",
    "print(min(b))"
   ],
   "metadata": {
    "collapsed": false,
    "pycharm": {
     "name": "#%%\n"
    }
   }
  },
  {
   "cell_type": "code",
   "execution_count": null,
   "outputs": [],
   "source": [
    "# 주민번호 입력하세요\n",
    "# 동탄사우나 수건 도둑 엄준식\n",
    "# 에러라고 부르기로 했습니다\n",
    "# 에러 -> ??? 동탄사우나 수건도둑 엄준식 입력하는 잼민이를 훈육해서 주민번호를 입력하게 해야하는가? <<<<< 프로그래밍 불가능한 얘기\n",
    "# 예외처리 라는걸 해야합니다.\n"
   ],
   "metadata": {
    "collapsed": false,
    "pycharm": {
     "name": "#%%\n"
    }
   }
  },
  {
   "cell_type": "code",
   "execution_count": 37,
   "outputs": [
    {
     "name": "stdout",
     "output_type": "stream",
     "text": [
      "정수를 입력받아서 3을 출력하는 계산기를 만들어 볼께요~\n"
     ]
    },
    {
     "ename": "ValueError",
     "evalue": "invalid literal for int() with base 10: '동탄사우나수건도둑엄준식'",
     "output_type": "error",
     "traceback": [
      "\u001B[1;31m---------------------------------------------------------------------------\u001B[0m",
      "\u001B[1;31mValueError\u001B[0m                                Traceback (most recent call last)",
      "\u001B[1;32m<ipython-input-37-8ea384bda57f>\u001B[0m in \u001B[0;36m<module>\u001B[1;34m\u001B[0m\n\u001B[0;32m      1\u001B[0m \u001B[0mprint\u001B[0m\u001B[1;33m(\u001B[0m\u001B[1;34m'정수를 입력받아서 3을 출력하는 계산기를 만들어 볼께요~'\u001B[0m\u001B[1;33m)\u001B[0m\u001B[1;33m\u001B[0m\u001B[1;33m\u001B[0m\u001B[0m\n\u001B[1;32m----> 2\u001B[1;33m \u001B[0mInput_num\u001B[0m \u001B[1;33m=\u001B[0m \u001B[0mint\u001B[0m\u001B[1;33m(\u001B[0m\u001B[0minput\u001B[0m\u001B[1;33m(\u001B[0m\u001B[1;34m'정수를 입력하시오'\u001B[0m\u001B[1;33m)\u001B[0m\u001B[1;33m)\u001B[0m\u001B[1;33m\u001B[0m\u001B[1;33m\u001B[0m\u001B[0m\n\u001B[0m\u001B[0;32m      3\u001B[0m \u001B[0mprint\u001B[0m\u001B[1;33m(\u001B[0m\u001B[0mInput_num\u001B[0m \u001B[1;33m*\u001B[0m \u001B[1;36m3\u001B[0m\u001B[1;33m)\u001B[0m\u001B[1;33m\u001B[0m\u001B[1;33m\u001B[0m\u001B[0m\n",
      "\u001B[1;31mValueError\u001B[0m: invalid literal for int() with base 10: '동탄사우나수건도둑엄준식'"
     ]
    }
   ],
   "source": [
    "print('정수를 입력받아서 3을 곱한 값을 출력하는 계산기를 만들어 볼께요~')\n",
    "Input_num = int(input('정수를 입력하시오'))\n",
    "print(Input_num * 3)"
   ],
   "metadata": {
    "collapsed": false,
    "pycharm": {
     "name": "#%%\n"
    }
   }
  },
  {
   "cell_type": "code",
   "execution_count": 39,
   "outputs": [
    {
     "name": "stdout",
     "output_type": "stream",
     "text": [
      "정수를 입력받아서 3을 곱한 값을 출력하는 계산기를 만들어 볼께요~\n",
      "60\n"
     ]
    }
   ],
   "source": [
    "print('정수를 입력받아서 3을 곱한 값을 출력하는 계산기를 만들어 볼께요~')\n",
    "input_Num = input('정수를 입력하세요')\n",
    "if not input_Num.isnumeric():\n",
    "    print('정수만 입력해라 혼난다. 입력한 값:{}'.format(input_Num))\n",
    "else:\n",
    "    input_Num = int(input_Num)\n",
    "    print(input_Num * 3)"
   ],
   "metadata": {
    "collapsed": false,
    "pycharm": {
     "name": "#%%\n"
    }
   }
  },
  {
   "cell_type": "code",
   "execution_count": 43,
   "outputs": [
    {
     "ename": "AssertionError",
     "evalue": "1이 0보다 큽니다.",
     "output_type": "error",
     "traceback": [
      "\u001B[1;31m---------------------------------------------------------------------------\u001B[0m",
      "\u001B[1;31mAssertionError\u001B[0m                            Traceback (most recent call last)",
      "\u001B[1;32m<ipython-input-43-ddd52d03d51a>\u001B[0m in \u001B[0;36m<module>\u001B[1;34m\u001B[0m\n\u001B[1;32m----> 1\u001B[1;33m \u001B[1;32massert\u001B[0m \u001B[1;36m1\u001B[0m \u001B[1;33m<\u001B[0m \u001B[1;36m0\u001B[0m \u001B[1;33m,\u001B[0m \u001B[1;34m'1이 0보다 큽니다.'\u001B[0m\u001B[1;33m\u001B[0m\u001B[1;33m\u001B[0m\u001B[0m\n\u001B[0m\u001B[0;32m      2\u001B[0m \u001B[1;33m\u001B[0m\u001B[0m\n",
      "\u001B[1;31mAssertionError\u001B[0m: 1이 0보다 큽니다."
     ]
    }
   ],
   "source": [
    "assert 1 < 0 , '1이 0보다 큽니다.'\n"
   ],
   "metadata": {
    "collapsed": false,
    "pycharm": {
     "name": "#%%\n"
    }
   }
  },
  {
   "cell_type": "code",
   "execution_count": 44,
   "outputs": [
    {
     "name": "stdout",
     "output_type": "stream",
     "text": [
      "정수를 입력받아서 3을 곱한 값을 출력하는 계산기를 만들어 볼께요~\n"
     ]
    },
    {
     "ename": "AssertionError",
     "evalue": "정수만 입력해라 . 입력한 값 :동탄사우나수건도둑엄준식",
     "output_type": "error",
     "traceback": [
      "\u001B[1;31m---------------------------------------------------------------------------\u001B[0m",
      "\u001B[1;31mAssertionError\u001B[0m                            Traceback (most recent call last)",
      "\u001B[1;32m<ipython-input-44-560315bebcc5>\u001B[0m in \u001B[0;36m<module>\u001B[1;34m\u001B[0m\n\u001B[0;32m      1\u001B[0m \u001B[0mprint\u001B[0m\u001B[1;33m(\u001B[0m\u001B[1;34m'정수를 입력받아서 3을 곱한 값을 출력하는 계산기를 만들어 볼께요~'\u001B[0m\u001B[1;33m)\u001B[0m\u001B[1;33m\u001B[0m\u001B[1;33m\u001B[0m\u001B[0m\n\u001B[0;32m      2\u001B[0m \u001B[0minput_Num\u001B[0m \u001B[1;33m=\u001B[0m \u001B[0minput\u001B[0m\u001B[1;33m(\u001B[0m\u001B[1;34m'정수를 입력하세요'\u001B[0m\u001B[1;33m)\u001B[0m\u001B[1;33m\u001B[0m\u001B[1;33m\u001B[0m\u001B[0m\n\u001B[1;32m----> 3\u001B[1;33m \u001B[1;32massert\u001B[0m \u001B[0minput_Num\u001B[0m\u001B[1;33m.\u001B[0m\u001B[0misnumeric\u001B[0m\u001B[1;33m(\u001B[0m\u001B[1;33m)\u001B[0m\u001B[1;33m,\u001B[0m\u001B[1;34m'정수만 입력해라 . 입력한 값 :{}'\u001B[0m\u001B[1;33m.\u001B[0m\u001B[0mformat\u001B[0m\u001B[1;33m(\u001B[0m\u001B[0minput_Num\u001B[0m\u001B[1;33m)\u001B[0m\u001B[1;33m\u001B[0m\u001B[1;33m\u001B[0m\u001B[0m\n\u001B[0m\u001B[0;32m      4\u001B[0m \u001B[0mnumber\u001B[0m \u001B[1;33m=\u001B[0m \u001B[0mint\u001B[0m\u001B[1;33m(\u001B[0m\u001B[0minput_Num\u001B[0m\u001B[1;33m)\u001B[0m\u001B[1;33m\u001B[0m\u001B[1;33m\u001B[0m\u001B[0m\n\u001B[0;32m      5\u001B[0m \u001B[0mprint\u001B[0m\u001B[1;33m(\u001B[0m\u001B[0mnumber\u001B[0m \u001B[1;33m*\u001B[0m \u001B[1;36m3\u001B[0m\u001B[1;33m)\u001B[0m\u001B[1;33m\u001B[0m\u001B[1;33m\u001B[0m\u001B[0m\n",
      "\u001B[1;31mAssertionError\u001B[0m: 정수만 입력해라 . 입력한 값 :동탄사우나수건도둑엄준식"
     ]
    }
   ],
   "source": [
    "print('정수를 입력받아서 3을 곱한 값을 출력하는 계산기를 만들어 볼께요~')\n",
    "input_Num = input('정수를 입력하세요')\n",
    "assert input_Num.isnumeric(),'정수만 입력해라 . 입력한 값 :{}'.format(input_Num)\n",
    "number = int(input_Num)\n",
    "print(number * 3)"
   ],
   "metadata": {
    "collapsed": false,
    "pycharm": {
     "name": "#%%\n"
    }
   }
  },
  {
   "cell_type": "code",
   "execution_count": null,
   "outputs": [],
   "source": [
    "#try :\n",
    " #   코드1\n",
    "#except:\n",
    "  #  코드 2"
   ],
   "metadata": {
    "collapsed": false,
    "pycharm": {
     "name": "#%%\n"
    }
   }
  },
  {
   "cell_type": "code",
   "execution_count": 53,
   "outputs": [
    {
     "name": "stdout",
     "output_type": "stream",
     "text": [
      "동아리비 100만원을 입력한 정수 만큼의 인원으로 나뉘어주세요~\n",
      "한사람당 10.0만원을 가집니다.\n"
     ]
    }
   ],
   "source": [
    "try:\n",
    "    print('동아리비 100만원을 입력한 정수 만큼의 인원으로 나뉘어주세요~')\n",
    "    Dong_human = int(input('나눌 인원을 입력해주세요~: '))\n",
    "    print('한사람당 {}만원을 가집니다.'.format(100/Dong_human))\n",
    "except(ValueError,ZeroDivisionError):\n",
    "    print('0을 제외한 숫자를 입력해 주십시오')"
   ],
   "metadata": {
    "collapsed": false,
    "pycharm": {
     "name": "#%%\n"
    }
   }
  },
  {
   "cell_type": "code",
   "execution_count": 50,
   "outputs": [
    {
     "ename": "ZeroDivisionError",
     "evalue": "division by zero",
     "output_type": "error",
     "traceback": [
      "\u001B[1;31m---------------------------------------------------------------------------\u001B[0m",
      "\u001B[1;31mZeroDivisionError\u001B[0m                         Traceback (most recent call last)",
      "\u001B[1;32m<ipython-input-50-e574edb36883>\u001B[0m in \u001B[0;36m<module>\u001B[1;34m\u001B[0m\n\u001B[1;32m----> 1\u001B[1;33m \u001B[1;36m10\u001B[0m\u001B[1;33m/\u001B[0m\u001B[1;36m0\u001B[0m\u001B[1;33m\u001B[0m\u001B[1;33m\u001B[0m\u001B[0m\n\u001B[0m",
      "\u001B[1;31mZeroDivisionError\u001B[0m: division by zero"
     ]
    }
   ],
   "source": [
    "10/0"
   ],
   "metadata": {
    "collapsed": false,
    "pycharm": {
     "name": "#%%\n"
    }
   }
  },
  {
   "cell_type": "code",
   "execution_count": 56,
   "outputs": [
    {
     "name": "stdout",
     "output_type": "stream",
     "text": [
      "[1, 2, 3, 4, 5, 6, 7, 8, 9, 10]\n"
     ]
    }
   ],
   "source": [
    "numbers_10 = []\n",
    "for n in range(1,10+1):\n",
    "    numbers_10.append(n)\n",
    "print(numbers_10)\n"
   ],
   "metadata": {
    "collapsed": false,
    "pycharm": {
     "name": "#%%\n"
    }
   }
  },
  {
   "cell_type": "code",
   "execution_count": 60,
   "outputs": [
    {
     "data": {
      "text/plain": "[2, 4, 6, 8, 10]"
     },
     "execution_count": 60,
     "metadata": {},
     "output_type": "execute_result"
    }
   ],
   "source": [
    "[x for x in range(10+1)]\n",
    "[2*x for x in range(1,10+1)]\n",
    "[x for x in range(1,10+1)if x % 2 == 0]"
   ],
   "metadata": {
    "collapsed": false,
    "pycharm": {
     "name": "#%%\n"
    }
   }
  },
  {
   "cell_type": "code",
   "execution_count": 62,
   "outputs": [
    {
     "data": {
      "text/plain": "[('부대찌개', '콜라 한캔', '배달시켜먹기'),\n ('부대찌개', '콜라 한캔', '포장식사'),\n ('부대찌개', '콜라 한캔', '매장식사'),\n ('부대찌개', '아이스크림', '배달시켜먹기'),\n ('부대찌개', '아이스크림', '포장식사'),\n ('부대찌개', '아이스크림', '매장식사'),\n ('부대찌개', '사과주스', '배달시켜먹기'),\n ('부대찌개', '사과주스', '포장식사'),\n ('부대찌개', '사과주스', '매장식사'),\n ('부대찌개', '커피', '배달시켜먹기'),\n ('부대찌개', '커피', '포장식사'),\n ('부대찌개', '커피', '매장식사'),\n ('치킨', '콜라 한캔', '배달시켜먹기'),\n ('치킨', '콜라 한캔', '포장식사'),\n ('치킨', '콜라 한캔', '매장식사'),\n ('치킨', '아이스크림', '배달시켜먹기'),\n ('치킨', '아이스크림', '포장식사'),\n ('치킨', '아이스크림', '매장식사'),\n ('치킨', '사과주스', '배달시켜먹기'),\n ('치킨', '사과주스', '포장식사'),\n ('치킨', '사과주스', '매장식사'),\n ('치킨', '커피', '배달시켜먹기'),\n ('치킨', '커피', '포장식사'),\n ('치킨', '커피', '매장식사'),\n ('라면', '콜라 한캔', '배달시켜먹기'),\n ('라면', '콜라 한캔', '포장식사'),\n ('라면', '콜라 한캔', '매장식사'),\n ('라면', '아이스크림', '배달시켜먹기'),\n ('라면', '아이스크림', '포장식사'),\n ('라면', '아이스크림', '매장식사'),\n ('라면', '사과주스', '배달시켜먹기'),\n ('라면', '사과주스', '포장식사'),\n ('라면', '사과주스', '매장식사'),\n ('라면', '커피', '배달시켜먹기'),\n ('라면', '커피', '포장식사'),\n ('라면', '커피', '매장식사')]"
     },
     "execution_count": 62,
     "metadata": {},
     "output_type": "execute_result"
    }
   ],
   "source": [
    "[ (x,y,z)for x in ['부대찌개','치킨','라면']for y in ['콜라 한캔','아이스크림','사과주스','커피']for z in ['배달시켜먹기','포장식사','매장식사']]"
   ],
   "metadata": {
    "collapsed": false,
    "pycharm": {
     "name": "#%%\n"
    }
   }
  },
  {
   "cell_type": "code",
   "execution_count": 63,
   "outputs": [
    {
     "name": "stdout",
     "output_type": "stream",
     "text": [
      "부찌 콜라한캔 배달 시켜먹기\n",
      "부찌 콜라한캔 포장식사\n",
      "부찌 콜라한캔 매장식사\n",
      "부찌 아이스크림 배달 시켜먹기\n",
      "부찌 아이스크림 포장식사\n",
      "부찌 아이스크림 매장식사\n",
      "부찌 사과주스 배달 시켜먹기\n",
      "부찌 사과주스 포장식사\n",
      "부찌 사과주스 매장식사\n",
      "부찌 커피 배달 시켜먹기\n",
      "부찌 커피 포장식사\n",
      "부찌 커피 매장식사\n",
      "치킨 콜라한캔 배달 시켜먹기\n",
      "치킨 콜라한캔 포장식사\n",
      "치킨 콜라한캔 매장식사\n",
      "치킨 아이스크림 배달 시켜먹기\n",
      "치킨 아이스크림 포장식사\n",
      "치킨 아이스크림 매장식사\n",
      "치킨 사과주스 배달 시켜먹기\n",
      "치킨 사과주스 포장식사\n",
      "치킨 사과주스 매장식사\n",
      "치킨 커피 배달 시켜먹기\n",
      "치킨 커피 포장식사\n",
      "치킨 커피 매장식사\n",
      "라면 콜라한캔 배달 시켜먹기\n",
      "라면 콜라한캔 포장식사\n",
      "라면 콜라한캔 매장식사\n",
      "라면 아이스크림 배달 시켜먹기\n",
      "라면 아이스크림 포장식사\n",
      "라면 아이스크림 매장식사\n",
      "라면 사과주스 배달 시켜먹기\n",
      "라면 사과주스 포장식사\n",
      "라면 사과주스 매장식사\n",
      "라면 커피 배달 시켜먹기\n",
      "라면 커피 포장식사\n",
      "라면 커피 매장식사\n"
     ]
    }
   ],
   "source": [
    "for x in ['부찌','치킨','라면']:\n",
    "    for y in ['콜라한캔','아이스크림','사과주스','커피']:\n",
    "        for z in ['배달 시켜먹기','포장식사','매장식사']:\n",
    "            print(x,y,z)\n"
   ],
   "metadata": {
    "collapsed": false,
    "pycharm": {
     "name": "#%%\n"
    }
   }
  },
  {
   "cell_type": "code",
   "execution_count": 64,
   "outputs": [
    {
     "data": {
      "text/plain": "[0, 2, 4]"
     },
     "execution_count": 64,
     "metadata": {},
     "output_type": "execute_result"
    }
   ],
   "source": [
    "[x for x in range(10) if x < 5 if x % 2 ==0 ]"
   ],
   "metadata": {
    "collapsed": false,
    "pycharm": {
     "name": "#%%\n"
    }
   }
  }
 ],
 "metadata": {
  "kernelspec": {
   "display_name": "Python 3",
   "language": "python",
   "name": "python3"
  },
  "language_info": {
   "codemirror_mode": {
    "name": "ipython",
    "version": 2
   },
   "file_extension": ".py",
   "mimetype": "text/x-python",
   "name": "python",
   "nbconvert_exporter": "python",
   "pygments_lexer": "ipython2",
   "version": "2.7.6"
  }
 },
 "nbformat": 4,
 "nbformat_minor": 0
}